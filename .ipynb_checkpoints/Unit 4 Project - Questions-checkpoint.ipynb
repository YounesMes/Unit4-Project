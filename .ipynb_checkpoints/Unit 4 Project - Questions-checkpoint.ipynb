{
 "cells": [
  {
   "cell_type": "markdown",
   "metadata": {
    "id": "pcBqRLqzMULW"
   },
   "source": [
    "# Unit 4 Project\n",
    "After understanding how neural networks work, implementing some basic architectures using deep learning frameworks, and learning about some advanced techniques to help enhance our neural networks' models results, it's time to apply what you learned! So let's start\n",
    "\n",
    "## Project Overview \n",
    "In this project, you will build a neural network model to classify images from CIFAR 10 dataset. \n",
    "\n",
    "The CIFAR-10 dataset consists of 60000 32x32 color images of 10 classes, with 6000 images per class. There are 50000 training images and 10000 test images. The dataset is divided into five training batches and one test batch, each with 10000 images. The test batch contains exactly 1000 randomly-selected images from each class. The training batches contain the remaining images in random order, but some training batches may contain more images from one class than another. Between them, the training batches contain exactly 5000 images from each class. [source](https://www.cs.toronto.edu/~kriz/cifar.html)\n",
    "\n",
    "Unlike the previous projects, there will be no code cells to fill, the only task you have is to build the best possible model using the techniques you learned about in this unit. But we will guide you with some directives.\n",
    "\n",
    "You will have enough guidance throughout the project and your work will be reviewed and graded by a teacher assistant. You can also reach out to the TA via slack whenever you feel you are stuck.\n",
    "\n",
    "## Some guidelines\n",
    "- Please use text cells to write the questions' answers in a good way.\n",
    "- Don't forget to save the different models you tested so you will be able to report the different results you got and the impact of the different techniques you tested later.\n",
    "\n",
    "## Getting started\n",
    "- In case you don't have a GPU, it is recommended that you use google colab. Start by cloning this repository, then open [google colab](https://colab.research.google.com/), click on File > Upload notebook, and finally upload the ```.ipynb``` file from the repository you have just cloned! Don't forget to change the runtime to GPU. If you want to work in your local environment just open it using jupyter notebook.\n",
    "\n"
   ]
  },
  {
   "cell_type": "markdown",
   "metadata": {
    "id": "kLavLevW45rD"
   },
   "source": [
    "## Dataset \n",
    "\n",
    "1.   Load the dataset (**hint**: it's available here https://keras.io/api/datasets/)\n",
    "2.   Display few images of each class.\n",
    "\n"
   ]
  },
  {
   "cell_type": "code",
   "execution_count": 1,
   "metadata": {
    "id": "Q7D9q0qVMj98"
   },
   "outputs": [],
   "source": [
    "#importing librairies\n",
    "import pandas as pd\n",
    "import matplotlib.pyplot as plt\n",
    "import numpy as np\n",
    "import tensorflow as tf\n",
    "from PIL import Image\n",
    "%matplotlib inline\n",
    "from matplotlib.pyplot import imshow\n",
    "from tensorflow.keras import datasets, layers, Input,models\n",
    "from keras.models import Sequential, Model\n",
    "from keras.layers import Flatten, Dense, Dropout\n",
    "from keras import regularizers\n",
    "from tensorflow import keras\n",
    "import os\n",
    "import pickle as pk\n",
    "import seaborn as sn\n",
    "import io\n",
    "import datetime\n",
    "from tensorflow.keras.losses import BinaryCrossentropy"
   ]
  },
  {
   "cell_type": "code",
   "execution_count": 2,
   "metadata": {},
   "outputs": [
    {
     "data": {
      "text/plain": [
       "(50000, 32, 32, 3)"
      ]
     },
     "execution_count": 2,
     "metadata": {},
     "output_type": "execute_result"
    }
   ],
   "source": [
    "#importing the dataset\n",
    "import ssl\n",
    "ssl._create_default_https_context=ssl._create_unverified_context\n",
    "(X_train, y_train), (X_test,y_test) = datasets.cifar10.load_data()\n",
    "X_train.shape"
   ]
  },
  {
   "cell_type": "code",
   "execution_count": 8,
   "metadata": {},
   "outputs": [],
   "source": [
    "y_train = y_train.reshape(-1,)\n",
    "y_train[:5]\n",
    "\n",
    "#define the classes:\n",
    "classes = [\"airplane\",\"automobile\",\"bird\",\"cat\",\"deer\",\"dog\",\"frog\",\"horse\",\"ship\",\"truck\"]\n",
    "\n",
    "def plot_simp(x,y,indx):\n",
    "    plt.figure(figsize=(10,3))\n",
    "    plt.imshow(x[indx])\n",
    "    plt.xlabel(classes[y[indx]])"
   ]
  },
  {
   "cell_type": "code",
   "execution_count": 10,
   "metadata": {},
   "outputs": [
    {
     "data": {
      "image/png": "[encoded data removed]",
      "text/plain": [
       "<Figure size 720x216 with 1 Axes>"
      ]
     },
     "metadata": {
      "needs_background": "light"
     },
     "output_type": "display_data"
    }
   ],
   "source": [
    "plot_simp(X_train,y_train,3)"
   ]
  },
  {
   "cell_type": "markdown",
   "metadata": {
    "id": "YmIZ1vTp6pDZ"
   },
   "source": [
    "## Baseline Model\n",
    "\n",
    "1.   Build a basline model using only dense layers, activation function of your choice, and the adapted cost function for this problem.\n",
    "2.   Train and evaluate your model\n",
    "3.   Analyze the result\n",
    "\n"
   ]
  },
  {
   "cell_type": "code",
   "execution_count": null,
   "metadata": {
    "id": "Dj0D8kHF9_K3"
   },
   "outputs": [],
   "source": [
    "# Your code here\n",
    "ann = models.Sequential([\n",
    "        layers.Flatten(input_shape=(32,32,3)),\n",
    "        layers.Dense(3000, activation='relu'),\n",
    "        layers.Dense(1000, activation='relu'),\n",
    "        layers.Dense(10, activation='softmax')    \n",
    "    ])\n",
    "\n",
    "ann.compile(optimizer='SGD',\n",
    "              loss='sparse_categorical_crossentropy',\n",
    "              metrics=['accuracy'])\n",
    "\n",
    "ann.fit(X_train, y_train, epochs=5)"
   ]
  },
  {
   "cell_type": "markdown",
   "metadata": {
    "id": "GvygWbNy-BxD"
   },
   "source": [
    "## Accelerating the training\n",
    "\n",
    "1.   Add batch normalization layers to your network in order to accelerate the training. Start with adding batch norm layer before each of your activation layers.\n",
    "2.   Analyze the new results\n",
    "3.   Change the position of the batch norm layers so they will be after the activation layers. Compare the results.\n",
    "   \n",
    "\n"
   ]
  },
  {
   "cell_type": "code",
   "execution_count": null,
   "metadata": {
    "id": "fNaAVBN4-Ai4"
   },
   "outputs": [],
   "source": [
    "# Your code here"
   ]
  },
  {
   "cell_type": "markdown",
   "metadata": {
    "id": "XYXf6uM6DJ1a"
   },
   "source": [
    "## Reducing the overfitting \n",
    "\n",
    "\n",
    "1.   Apply the dropout technique to reduce the overfitting your model is suffering from\n",
    "2.   Try different dropout rates \n",
    "\n"
   ]
  },
  {
   "cell_type": "code",
   "execution_count": null,
   "metadata": {
    "id": "2er70cnXDIqI"
   },
   "outputs": [],
   "source": [
    "# Your code here"
   ]
  },
  {
   "cell_type": "markdown",
   "metadata": {
    "id": "cZkBwzPX_eHh"
   },
   "source": [
    "## Trying different model's parameters\n",
    "1. Try changing the number of layers, the number of hidden neurons in each layer, the activation functions, the weight initialization method...\n",
    "2. Compare the results you got for each evaluated model."
   ]
  },
  {
   "cell_type": "code",
   "execution_count": null,
   "metadata": {
    "id": "sXtHgGpjFm9i"
   },
   "outputs": [],
   "source": [
    "# Your code here"
   ]
  },
  {
   "cell_type": "markdown",
   "metadata": {
    "id": "fc8lCKMlGMrb"
   },
   "source": [
    "## Few more experiments to go\n",
    "\n",
    "1.   **Exploring more regularization techniques:** Try at least 2 regularization techniques separately and combined.  A non-exhaustive list of regularization techniques you can test\n",
    "\n",
    "\n",
    "> * L1 and L2 regularization\n",
    "* Early stopping\n",
    "* Data augmentation\n",
    "* Decreasing the complexity of the model\n",
    "\n",
    "2.   **Hyperparameters' tuning:** Try to tune the learning parameters using the tuning strategies we learned about:\n",
    "\n",
    "> * Learning rate\n",
    "* Mini-batch size\n",
    "* The optimizer and its parameters\n",
    "\n",
    "3. Analyze the impact of each of the applied techniques. What were the most effective ones? What were the hypeparameters that affects the results the most?\n"
   ]
  },
  {
   "cell_type": "code",
   "execution_count": null,
   "metadata": {
    "id": "OBXIjaAVGMPd"
   },
   "outputs": [],
   "source": [
    "# Your code here"
   ]
  },
  {
   "cell_type": "markdown",
   "metadata": {
    "id": "qcFRgyd_TAOx"
   },
   "source": [
    "## Answer the following questions\n",
    "*Hint: Do your own research to answer these questions, none of the questions is answered in the previous lessons*\n",
    "\n",
    "\n",
    "1.   Why we can’t reach a good accuracy on this task?\n",
    "2.   Explain why fully connected neural networks are Not efficient on image tasks\n",
    "3.   What architecture can be used  for such tasks? Why they are more adapted for that?\n",
    "\n",
    "\\"
   ]
  },
  {
   "cell_type": "code",
   "execution_count": null,
   "metadata": {
    "id": "COtGbMoHUdsC"
   },
   "outputs": [],
   "source": []
  }
 ],
 "metadata": {
  "colab": {
   "name": "Unit 4 Project - Questions.ipynb",
   "provenance": [],
   "toc_visible": true
  },
  "kernelspec": {
   "display_name": "Python 3 (ipykernel)",
   "language": "python",
   "name": "python3"
  },
  "language_info": {
   "codemirror_mode": {
    "name": "ipython",
    "version": 3
   },
   "file_extension": ".py",
   "mimetype": "text/x-python",
   "name": "python",
   "nbconvert_exporter": "python",
   "pygments_lexer": "ipython3",
   "version": "3.8.8"
  }
 },
 "nbformat": 4,
 "nbformat_minor": 1
}
